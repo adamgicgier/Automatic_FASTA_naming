import shutil
file_path = 'Ref_RefSeq_tRNA_Synthetase_Final.fasta'
new_file_path = 'Ref_RefSeq_tRNA_Synthetase_Final_named.fasta'
shutil.copyfile(file_path, new_file_path)

with open(new_file_path, 'r') as f:
    lines=f.readlines()
    i=0
    for lin in lines:
        if lin[0] == '>':
            if 'gnl' in lin:
                strin = lin.split()[-1][1] + (lin.split()[-1]).split('_')[1][0:2] + '_' + lin.split()[0][-3:] + ' '
                lines[i] = lin[0] + strin + lin[1:]
            else:
                substr = lin.split('[')[1]
                #print(type(substr))
                #print(substr)
                strin = substr.split()[0][0] + substr.split()[1][:2]
                #strin = lin.split()[-1][1] + (lin.split()[-1]).split('_')[1][0:2] + '_' + lin.split()[0][-3:] + ' '
                lines[i] = lin[0] + strin + '_' + lin.split('.')[0][-3:] + ' ' + lin[1:]

        i+=1

print(lines)
with open(new_file_path, 'w') as f:
    f.writelines(lines)
