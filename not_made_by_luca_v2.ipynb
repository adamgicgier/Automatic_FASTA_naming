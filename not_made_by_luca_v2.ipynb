{
 "cells": [
  {
   "cell_type": "code",
   "execution_count": 58,
   "metadata": {},
   "outputs": [
    {
     "name": "stdout",
     "output_type": "stream",
     "text": [
      "<class 'str'>\n",
      "high_confidence Picea abies]\n",
      "\n",
      "<class 'str'>\n",
      "high_confidence Picea abies]\n",
      "\n",
      "<class 'str'>\n",
      "Hordeum vulgare]\n",
      "\n",
      "<class 'str'>\n",
      "Hordeum vulgare subsp. vulgare]\n",
      "\n",
      "<class 'str'>\n",
      "Hordeum vulgare subsp. vulgare]\n",
      "\n",
      "<class 'str'>\n",
      "Hordeum vulgare subsp. vulgare]\n",
      "\n",
      "<class 'str'>\n",
      "Hordeum vulgare subsp. vulgare]\n",
      "\n",
      "<class 'str'>\n",
      "Hordeum vulgare subsp. vulgare]\n",
      "\n",
      "<class 'str'>\n",
      "Hordeum vulgare subsp. vulgare]\n",
      "\n",
      "<class 'str'>\n",
      "Hordeum vulgare]\n",
      "\n",
      "<class 'str'>\n",
      "Coffea canephora]\n",
      "\n",
      "<class 'str'>\n",
      "Coffea canephora]\n",
      "\n",
      "<class 'str'>\n",
      "Coffea canephora]\n",
      "\n",
      "<class 'str'>\n",
      "Cuscuta australis]\n",
      "\n",
      "<class 'str'>\n",
      "Cuscuta australis]\n",
      "\n",
      "<class 'str'>\n",
      "Aquilegia coerulea]\n",
      "\n",
      "<class 'str'>\n",
      "Aquilegia coerulea]\n",
      "\n",
      "<class 'str'>\n",
      "Aquilegia coerulea]\n",
      "\n",
      "<class 'str'>\n",
      "Aquilegia coerulea]\n",
      "\n",
      "<class 'str'>\n",
      "Aquilegia coerulea]\n",
      "\n",
      "<class 'str'>\n",
      "Aquilegia coerulea]\n",
      "\n",
      "<class 'str'>\n",
      "Aquilegia coerulea]\n",
      "\n",
      "<class 'str'>\n",
      "Aquilegia coerulea]\n",
      "\n",
      "<class 'str'>\n",
      "Aquilegia coerulea]\n",
      "\n",
      "<class 'str'>\n",
      "Hordeum vulgare]\n",
      "\n",
      "<class 'str'>\n",
      "Aquilegia coerulea]\n",
      "\n",
      "<class 'str'>\n",
      "Porphyridium purpureum]\n",
      "\n",
      "<class 'str'>\n",
      "Porphyridium purpureum]\n",
      "\n",
      "<class 'str'>\n",
      "Chara braunii]\n",
      "\n"
     ]
    }
   ],
   "source": [
    "import shutil\n",
    "file_path = 'Others_BE_Final_YL_5023.fasta'\n",
    "new_file_path = 'adam_test2.fasta'\n",
    "shutil.copyfile(file_path, new_file_path)\n",
    "\n",
    "with open(new_file_path, 'r') as f:\n",
    "    lines=f.readlines()\n",
    "    i=0\n",
    "    for lin in lines:\n",
    "        if lin[0] == '>':\n",
    "            if 'gnl' in lin:\n",
    "                strin = lin.split()[-1][1] + (lin.split()[-1]).split('_')[1][0:2] + '_' + lin.split()[0][-3:] + ' '\n",
    "                lines[i] = lin[0] + strin + lin[1:]\n",
    "            else:\n",
    "                substr = lin.split('[')[1]\n",
    "                print(type(substr))\n",
    "                print(substr)\n",
    "                strin = substr.split()[0][0] + substr.split()[1][:2]\n",
    "                #strin = lin.split()[-1][1] + (lin.split()[-1]).split('_')[1][0:2] + '_' + lin.split()[0][-3:] + ' '\n",
    "                lines[i] = lin[0] + strin + lin.split('.')[0][-3:] + ' ' + lin[1:]\n",
    "\n",
    "        i+=1\n",
    "\n",
    "#print(lines)\n",
    "with open(new_file_path, 'w') as f:\n",
    "    f.writelines(lines)\n",
    "            \n",
    "## THIS HAS NOT BEEN CODED BY LUCA DROLE   "
   ]
  },
  {
   "cell_type": "code",
   "execution_count": 49,
   "metadata": {},
   "outputs": [
    {
     "name": "stdout",
     "output_type": "stream",
     "text": [
      ">lcl|MA_10430611g0010 [high_confidence Picea abies]\n",
      "\n"
     ]
    }
   ],
   "source": [
    "with open(new_file_path, 'r') as f:\n",
    "    lines=f.readlines()\n",
    "    i=0\n",
    "    riga=0\n",
    "    for lin in lines:\n",
    "        if lin[0] == '>':\n",
    "            if riga == 68:\n",
    "                print(lin)\n",
    "            riga+=1"
   ]
  },
  {
   "cell_type": "code",
   "execution_count": null,
   "metadata": {},
   "outputs": [],
   "source": []
  }
 ],
 "metadata": {
  "kernelspec": {
   "display_name": "Python 3.9.10 64-bit (system)",
   "language": "python",
   "name": "python3"
  },
  "language_info": {
   "codemirror_mode": {
    "name": "ipython",
    "version": 3
   },
   "file_extension": ".py",
   "mimetype": "text/x-python",
   "name": "python",
   "nbconvert_exporter": "python",
   "pygments_lexer": "ipython3",
   "version": "3.9.10"
  },
  "orig_nbformat": 4,
  "vscode": {
   "interpreter": {
    "hash": "2e6c9f26ec0ebf91750ccd2642101817d6037831d435336bc7a6f85dbe927df5"
   }
  }
 },
 "nbformat": 4,
 "nbformat_minor": 2
}
